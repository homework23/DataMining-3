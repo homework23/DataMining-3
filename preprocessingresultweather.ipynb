{
  "nbformat": 4,
  "nbformat_minor": 0,
  "metadata": {
    "colab": {
      "name": "Untitled1.ipynb",
      "provenance": []
    },
    "kernelspec": {
      "name": "python3",
      "display_name": "Python 3"
    },
    "language_info": {
      "name": "python"
    }
  },
  "cells": [
    {
      "cell_type": "code",
      "metadata": {
        "id": "tfislTtVI_nL"
      },
      "source": [
        "import numpy as np\n",
        "import matplotlib.pyplot as plt\n",
        "import pandas as pd\n"
      ],
      "execution_count": 2,
      "outputs": []
    },
    {
      "cell_type": "code",
      "metadata": {
        "colab": {
          "base_uri": "https://localhost:8080/"
        },
        "id": "sGV9JTIKJnTC",
        "outputId": "4234995b-25d7-466f-83bf-5cd4b12fe2bb"
      },
      "source": [
        "\n",
        "dataset = pd.read_csv('resultweather.csv')\n",
        "X = dataset.iloc[:,:-1].values\n",
        "y = dataset.iloc[:,-1].values\n",
        "print(X)\n",
        "print(y)\n",
        "\n",
        "\n",
        "\n",
        "\n",
        "\n"
      ],
      "execution_count": 3,
      "outputs": [
        {
          "output_type": "stream",
          "text": [
            "[[1 'sunny' 85 85 False]\n",
            " [2 'sunny' 80 90 True]\n",
            " [3 'overcast' 83 86 False]\n",
            " [4 'rainy' 70 96 False]\n",
            " [5 'rainy' 68 80 False]\n",
            " [6 'rainy' 65 70 True]\n",
            " [7 'overcast' 64 65 True]\n",
            " [8 'sunny' 72 95 False]\n",
            " [9 'sunny' 69 70 False]\n",
            " [10 'rainy' 75 80 False]\n",
            " [11 'sunny' 75 70 True]\n",
            " [12 'overcast' 72 90 True]\n",
            " [13 'overcast' 81 75 False]\n",
            " [14 'rainy' 71 91 True]]\n",
            "['no' 'no' 'yes' 'yes' 'yes' 'no' 'yes' 'no' 'yes' 'yes' 'yes' 'yes' 'yes'\n",
            " 'no']\n"
          ],
          "name": "stdout"
        }
      ]
    },
    {
      "cell_type": "code",
      "metadata": {
        "colab": {
          "base_uri": "https://localhost:8080/"
        },
        "id": "1lYQ5pfTJRZT",
        "outputId": "e2d32cda-1e35-4c45-95e4-f08a4e827fc7"
      },
      "source": [
        "\n",
        "from sklearn.impute import SimpleImputer\n",
        "imputer = SimpleImputer(missing_values=np.nan, strategy='mean')\n",
        "imputer.fit(X[:, 3:4])\n",
        "X[:, 3:4] = imputer.transform(X[:, 3:4])\n",
        "print(X)\n",
        "\n",
        "\n",
        "\n",
        "\n",
        "\n",
        "\n"
      ],
      "execution_count": 4,
      "outputs": [
        {
          "output_type": "stream",
          "text": [
            "[[1 'sunny' 85 85.0 False]\n",
            " [2 'sunny' 80 90.0 True]\n",
            " [3 'overcast' 83 86.0 False]\n",
            " [4 'rainy' 70 96.0 False]\n",
            " [5 'rainy' 68 80.0 False]\n",
            " [6 'rainy' 65 70.0 True]\n",
            " [7 'overcast' 64 65.0 True]\n",
            " [8 'sunny' 72 95.0 False]\n",
            " [9 'sunny' 69 70.0 False]\n",
            " [10 'rainy' 75 80.0 False]\n",
            " [11 'sunny' 75 70.0 True]\n",
            " [12 'overcast' 72 90.0 True]\n",
            " [13 'overcast' 81 75.0 False]\n",
            " [14 'rainy' 71 91.0 True]]\n"
          ],
          "name": "stdout"
        }
      ]
    },
    {
      "cell_type": "code",
      "metadata": {
        "colab": {
          "base_uri": "https://localhost:8080/"
        },
        "id": "PMA6wghJJwmS",
        "outputId": "37973456-9eee-4026-f65e-c41e7fcdb863"
      },
      "source": [
        "#encoding dependet\n",
        "from sklearn.preprocessing import LabelEncoder\n",
        "le = LabelEncoder()\n",
        "y = le.fit_transform(y)\n",
        "print(y)\n",
        "\n",
        "\n",
        "\n",
        "\n"
      ],
      "execution_count": 8,
      "outputs": [
        {
          "output_type": "stream",
          "text": [
            "[0 0 1 1 1 0 1 0 1 1 1 1 1 0]\n"
          ],
          "name": "stdout"
        }
      ]
    },
    {
      "cell_type": "code",
      "metadata": {
        "colab": {
          "base_uri": "https://localhost:8080/"
        },
        "id": "ue62NMPqMRst",
        "outputId": "b128c0f2-5e99-4d5e-b476-09e38d9a6745"
      },
      "source": [
        "from sklearn.model_selection import train_test_split\n",
        "X_train, X_test, y_train, y_test = train_test_split(X, y, test_size = 0.2, random_state = 1)\n",
        "print(X_train)\n",
        "print(X_test)\n",
        "print(y_train)\n",
        "print(y_test)"
      ],
      "execution_count": 9,
      "outputs": [
        {
          "output_type": "stream",
          "text": [
            "[[3 'overcast' 83 86.0 False]\n",
            " [11 'sunny' 75 70.0 True]\n",
            " [5 'rainy' 68 80.0 False]\n",
            " [2 'sunny' 80 90.0 True]\n",
            " [13 'overcast' 81 75.0 False]\n",
            " [1 'sunny' 85 85.0 False]\n",
            " [14 'rainy' 71 91.0 True]\n",
            " [10 'rainy' 75 80.0 False]\n",
            " [9 'sunny' 69 70.0 False]\n",
            " [12 'overcast' 72 90.0 True]\n",
            " [6 'rainy' 65 70.0 True]]\n",
            "[[4 'rainy' 70 96.0 False]\n",
            " [8 'sunny' 72 95.0 False]\n",
            " [7 'overcast' 64 65.0 True]]\n",
            "[1 1 1 0 1 0 0 1 1 1 0]\n",
            "[1 0 1]\n"
          ],
          "name": "stdout"
        }
      ]
    },
    {
      "cell_type": "code",
      "metadata": {
        "colab": {
          "base_uri": "https://localhost:8080/"
        },
        "id": "uRFkkQ_JM9zd",
        "outputId": "9cf08e41-3f40-4633-cafd-8afaca0d506a"
      },
      "source": [
        "from sklearn.preprocessing import StandardScaler\n",
        "sc = StandardScaler()\n",
        "X_train[:, 3:] = sc.fit_transform(X_train[:,3:])\n",
        "X_test[:, 3:] = sc.transform(X_test[:,3:])\n",
        "print(X_train)\n",
        "print(X_train)"
      ],
      "execution_count": 10,
      "outputs": [
        {
          "output_type": "stream",
          "text": [
            "[[3 'overcast' 83 0.6711482389101024 -0.9128709291752769]\n",
            " [11 'sunny' 75 -1.330921083940374 1.0954451150103321]\n",
            " [5 'rainy' 68 -0.07962775715882625 -0.9128709291752769]\n",
            " [2 'sunny' 80 1.1716655696227216 1.0954451150103321]\n",
            " [13 'overcast' 81 -0.7052744205496001 -0.9128709291752769]\n",
            " [1 'sunny' 85 0.5460189062319476 -0.9128709291752769]\n",
            " [14 'rainy' 71 1.2967949023008762 1.0954451150103321]\n",
            " [10 'rainy' 75 -0.07962775715882625 -0.9128709291752769]\n",
            " [9 'sunny' 69 -1.330921083940374 -0.9128709291752769]\n",
            " [12 'overcast' 72 1.1716655696227216 1.0954451150103321]\n",
            " [6 'rainy' 65 -1.330921083940374 1.0954451150103321]]\n",
            "[[3 'overcast' 83 0.6711482389101024 -0.9128709291752769]\n",
            " [11 'sunny' 75 -1.330921083940374 1.0954451150103321]\n",
            " [5 'rainy' 68 -0.07962775715882625 -0.9128709291752769]\n",
            " [2 'sunny' 80 1.1716655696227216 1.0954451150103321]\n",
            " [13 'overcast' 81 -0.7052744205496001 -0.9128709291752769]\n",
            " [1 'sunny' 85 0.5460189062319476 -0.9128709291752769]\n",
            " [14 'rainy' 71 1.2967949023008762 1.0954451150103321]\n",
            " [10 'rainy' 75 -0.07962775715882625 -0.9128709291752769]\n",
            " [9 'sunny' 69 -1.330921083940374 -0.9128709291752769]\n",
            " [12 'overcast' 72 1.1716655696227216 1.0954451150103321]\n",
            " [6 'rainy' 65 -1.330921083940374 1.0954451150103321]]\n"
          ],
          "name": "stdout"
        }
      ]
    },
    {
      "cell_type": "code",
      "metadata": {
        "colab": {
          "base_uri": "https://localhost:8080/"
        },
        "id": "jfyFw9MoNRoy",
        "outputId": "603c2b94-b689-4244-a359-de7071651a0d"
      },
      "source": [
        "print(X_test)"
      ],
      "execution_count": 11,
      "outputs": [
        {
          "output_type": "stream",
          "text": [
            "[[4 'rainy' 70 1.9224415656916503 -0.9128709291752769]\n",
            " [8 'sunny' 72 1.7973122330134954 -0.9128709291752769]\n",
            " [7 'overcast' 64 -1.956567747331148 1.0954451150103321]]\n"
          ],
          "name": "stdout"
        }
      ]
    }
  ]
}